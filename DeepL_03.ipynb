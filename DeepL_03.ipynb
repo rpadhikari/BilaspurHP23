{
 "cells": [
  {
   "cell_type": "code",
   "execution_count": null,
   "id": "d5a9997d",
   "metadata": {},
   "outputs": [],
   "source": [
    "import matplotlib.pyplot as plt\n",
    "import pandas as pd\n",
    "import tensorflow as tf\n",
    "from tensorflow import keras\n",
    "from tensorflow.keras import layers, callbacks\n",
    "from sklearn.model_selection import train_test_split"
   ]
  },
  {
   "cell_type": "code",
   "execution_count": null,
   "id": "7d7797a3",
   "metadata": {},
   "outputs": [],
   "source": [
    "# Read data from cement concrete.csv and look the headers\n",
    "#alat = pd.read_csv('./data/pero.csv',header=0, index_col = 0, usecols= ['ra','rb','xa','xb','za','a','b','c'])\n",
    "alat = pd.read_csv('./data/pero.csv')\n",
    "alat.head()"
   ]
  },
  {
   "cell_type": "code",
   "execution_count": null,
   "id": "f10198e1",
   "metadata": {},
   "outputs": [],
   "source": [
    "# Information of concrete DataFrame\n",
    "alat.info()"
   ]
  },
  {
   "cell_type": "code",
   "execution_count": null,
   "id": "b75fbee7",
   "metadata": {},
   "outputs": [],
   "source": [
    "# extract the required data columns only for training purpose (features and target)\n",
    "import numpy as np\n",
    "features = np.array(alat[['ra','rb','xa','xb','za']], np.float64)\n",
    "#targets = np.array(alat[['a', 'b', 'c']], np.float64)\n",
    "targets = np.array(alat[['a']], np.float64) # one target at a time"
   ]
  },
  {
   "cell_type": "code",
   "execution_count": null,
   "id": "1929a8d2-3b6b-43ef-8a61-d83403a1367a",
   "metadata": {},
   "outputs": [],
   "source": [
    "# Normalization of data between -1 to 1\n",
    "max_ = features.max(axis=0)\n",
    "min_ = features.min(axis=0)\n",
    "features = (features - min_) / (max_ - min_)\n",
    "targets = (targets - min_) / (max_ - min_)"
   ]
  },
  {
   "cell_type": "code",
   "execution_count": null,
   "id": "d6beada0-1a60-44a2-9aad-f2ba63a22876",
   "metadata": {},
   "outputs": [],
   "source": [
    "# Create training and validation splits\n",
    "X_train, X_valid, y_train, y_valid = train_test_split(features, targets,\n",
    "                                                    random_state=11117,\n",
    "                                                    test_size=0.2)"
   ]
  },
  {
   "cell_type": "code",
   "execution_count": null,
   "id": "6e52099b-ab74-4ff0-8100-2c50f8b1ab21",
   "metadata": {},
   "outputs": [],
   "source": [
    "# Early stopping criteria\n",
    "early_stopping = callbacks.EarlyStopping(\n",
    "    min_delta=0.01, # minimium amount of change to count as an improvement\n",
    "    patience=100, # how many epochs to wait before stopping\n",
    "    restore_best_weights=True,\n",
    ")"
   ]
  },
  {
   "cell_type": "code",
   "execution_count": null,
   "id": "ffa75069-a6d3-44ce-b9ea-986bba9a77e8",
   "metadata": {},
   "outputs": [],
   "source": [
    "# Build a Sequential Model\n",
    "model = keras.Sequential([\n",
    "    layers.Dense(64, activation='relu', input_shape=[5]), # Input layer\n",
    "    layers.Dense(64, activation='relu'), # 1st hidden layer\n",
    "    layers.Dropout(0.2),\n",
    "    layers.BatchNormalization(),\n",
    "    layers.Dense(64, activation='relu'), # 2nd hidden layer\n",
    "    layers.Dropout(0.2),\n",
    "    layers.BatchNormalization(),\n",
    "    layers.Dense(64, activation='relu'), # 3rd hidden layer\n",
    "    layers.Dropout(0.2),\n",
    "    layers.BatchNormalization(),\n",
    "    layers.Dense(64, activation='relu'), # 4th hidden layer\n",
    "    layers.Dropout(0.2),\n",
    "    layers.BatchNormalization(),\n",
    "    layers.Dense(64, activation='relu'), # 5th hidden layer\n",
    "    layers.Dropout(0.2),\n",
    "    layers.BatchNormalization(),\n",
    "    layers.Dense(64, activation='relu'), # 6th hidden layer\n",
    "    layers.Dropout(0.2),\n",
    "    layers.BatchNormalization(),\n",
    "    layers.Dense(64, activation='relu'), # 7th hidden layer\n",
    "    layers.Dropout(0.2),\n",
    "    layers.BatchNormalization(),\n",
    "    layers.Dense(64, activation='relu'), # 8th hidden layer\n",
    "    layers.Dense(1), # output layer\n",
    "])"
   ]
  },
  {
   "cell_type": "code",
   "execution_count": null,
   "id": "34746a25",
   "metadata": {},
   "outputs": [],
   "source": [
    "# Compile model\n",
    "model.compile(optimizer='adam', loss='mae',)"
   ]
  },
  {
   "cell_type": "code",
   "execution_count": null,
   "id": "1d5a8424",
   "metadata": {},
   "outputs": [],
   "source": [
    "history = model.fit(\n",
    "    X_train, y_train,\n",
    "    validation_data=(X_valid, y_valid),\n",
    "    batch_size=32,\n",
    "    epochs=1000,\n",
    "    callbacks=[early_stopping], # put your callbacks in a list\n",
    "    verbose=1,\n",
    ")"
   ]
  },
  {
   "cell_type": "code",
   "execution_count": null,
   "id": "21cb1f93",
   "metadata": {},
   "outputs": [],
   "source": [
    "# Show the learning curves\n",
    "history_df = pd.DataFrame(history.history)\n",
    "history_df.loc[:, ['loss', 'val_loss']].plot();"
   ]
  },
  {
   "cell_type": "code",
   "execution_count": null,
   "id": "64c649e6",
   "metadata": {},
   "outputs": [],
   "source": [
    "print(\"Minimum validation loss: {}\".format(history_df['val_loss'].min()))"
   ]
  },
  {
   "cell_type": "code",
   "execution_count": null,
   "id": "0833227a-788c-452b-a0e3-30515ae2f1a7",
   "metadata": {},
   "outputs": [],
   "source": []
  }
 ],
 "metadata": {
  "kernelspec": {
   "display_name": "Python 3 (ipykernel)",
   "language": "python",
   "name": "python3"
  },
  "language_info": {
   "codemirror_mode": {
    "name": "ipython",
    "version": 3
   },
   "file_extension": ".py",
   "mimetype": "text/x-python",
   "name": "python",
   "nbconvert_exporter": "python",
   "pygments_lexer": "ipython3",
   "version": "3.8.16"
  }
 },
 "nbformat": 4,
 "nbformat_minor": 5
}
