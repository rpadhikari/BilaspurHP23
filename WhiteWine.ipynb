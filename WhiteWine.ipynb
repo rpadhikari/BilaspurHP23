{
 "cells": [
  {
   "cell_type": "code",
   "execution_count": null,
   "id": "523e334c-dadd-44b2-ab38-e65beb50b425",
   "metadata": {},
   "outputs": [],
   "source": [
    "import pandas as pd\n",
    "from IPython.display import display\n",
    "from tensorflow import keras\n",
    "from tensorflow.keras import layers, callbacks"
   ]
  },
  {
   "cell_type": "code",
   "execution_count": null,
   "id": "6ae214e7-f833-44ea-ae43-ba708efc81d8",
   "metadata": {},
   "outputs": [],
   "source": [
    "#import datasets\n",
    "red_wine = pd.read_csv('./data/winequality-white.csv', sep=';')"
   ]
  },
  {
   "cell_type": "code",
   "execution_count": null,
   "id": "52f9fd36-9894-407a-ae3f-adaa7b71843f",
   "metadata": {},
   "outputs": [],
   "source": [
    "# Create training and validation splits\n",
    "df_train = red_wine.sample(frac=0.8, random_state=0)\n",
    "df_valid = red_wine.drop(df_train.index)\n",
    "display(df_train.head(4))"
   ]
  },
  {
   "cell_type": "code",
   "execution_count": null,
   "id": "5802946f-5230-48b9-97c2-5986ffb991a6",
   "metadata": {},
   "outputs": [],
   "source": [
    "# Scale to [0, 1]\n",
    "max_ = df_train.max(axis=0)\n",
    "min_ = df_train.min(axis=0)\n",
    "df_train = (df_train - min_)/(max_ - min_)\n",
    "df_valid = (df_valid - min_)/(max_ - min_)"
   ]
  },
  {
   "cell_type": "code",
   "execution_count": null,
   "id": "3fe0c8d7-5b1e-4485-9696-4cffb9b45d68",
   "metadata": {},
   "outputs": [],
   "source": [
    "# Split features and target\n",
    "X_train = df_train.drop('quality', axis=1)\n",
    "X_valid = df_valid.drop('quality', axis=1)\n",
    "y_train = df_train['quality']\n",
    "y_valid = df_valid['quality']\n",
    "print(X_train.shape)"
   ]
  },
  {
   "cell_type": "code",
   "execution_count": null,
   "id": "f5d887e5-dada-4b39-8f10-99a43c976882",
   "metadata": {
    "tags": []
   },
   "outputs": [],
   "source": [
    "# Early stopping criteria\n",
    "early_stopping = callbacks.EarlyStopping(\n",
    "    min_delta=0.01, # minimium amount of change to count as an improvement\n",
    "    patience=100, # how many epochs to wait before stopping\n",
    "    restore_best_weights=True,\n",
    ")"
   ]
  },
  {
   "cell_type": "code",
   "execution_count": null,
   "id": "65627f16-9825-4adb-9ca1-84d9cc50511b",
   "metadata": {},
   "outputs": [],
   "source": [
    "# Build a Sequential Model\n",
    "model = keras.Sequential([\n",
    "    layers.Dense(64, activation='relu', input_shape=[11]), # Input layer\n",
    "    layers.Dense(64, activation='relu'), # 1st hidden layer\n",
    "    layers.Dropout(0.2),\n",
    "    layers.BatchNormalization(),\n",
    "    layers.Dense(64, activation='relu'), # 2nd hidden layer\n",
    "    layers.Dropout(0.2),\n",
    "    layers.BatchNormalization(),\n",
    "    layers.Dense(64, activation='relu'), # 3rd hidden layer\n",
    "    layers.Dropout(0.2),\n",
    "    layers.BatchNormalization(),\n",
    "    layers.Dense(64, activation='relu'), # 4th hidden layer\n",
    "    layers.Dropout(0.2),\n",
    "    layers.BatchNormalization(),\n",
    "    layers.Dense(64, activation='relu'), # 5th hidden layer\n",
    "    layers.Dense(1), # output layer\n",
    "])"
   ]
  },
  {
   "cell_type": "code",
   "execution_count": null,
   "id": "50c2f29e-1cc0-4ee0-add6-fecbf5f6b2cc",
   "metadata": {},
   "outputs": [],
   "source": [
    "# Compile the model\n",
    "model.compile(optimizer='adam', loss='mae',)"
   ]
  },
  {
   "cell_type": "code",
   "execution_count": null,
   "id": "46c2cf3d-65f4-4757-aa2b-db1cd9c9aa4b",
   "metadata": {},
   "outputs": [],
   "source": [
    "# Run the model\n",
    "history = model.fit(\n",
    "    X_train, y_train,\n",
    "    validation_data=(X_valid, y_valid),\n",
    "    batch_size=4096,\n",
    "    epochs=500,\n",
    "    verbose=1\n",
    ")"
   ]
  },
  {
   "cell_type": "code",
   "execution_count": null,
   "id": "c93dc0fd-c601-4c70-a637-0c94b76614eb",
   "metadata": {},
   "outputs": [],
   "source": [
    "# convert the training history to a dataframe\n",
    "history_df = pd.DataFrame(history.history)\n",
    "# use Pandas native plot method\n",
    "# Show the learning curves\n",
    "history_df = pd.DataFrame(history.history)\n",
    "history_df.loc[:, ['loss', 'val_loss']].plot();"
   ]
  },
  {
   "cell_type": "code",
   "execution_count": null,
   "id": "6fd9684c-0cf0-48d7-86b8-15df8c873d07",
   "metadata": {},
   "outputs": [],
   "source": [
    "print(\"Minimum validation loss: {}\".format(history_df['val_loss'].min()))"
   ]
  },
  {
   "cell_type": "code",
   "execution_count": null,
   "id": "f345d917-0295-48ec-98ae-a12db31da1b8",
   "metadata": {},
   "outputs": [],
   "source": []
  }
 ],
 "metadata": {
  "kernelspec": {
   "display_name": "Python 3 (ipykernel)",
   "language": "python",
   "name": "python3"
  },
  "language_info": {
   "codemirror_mode": {
    "name": "ipython",
    "version": 3
   },
   "file_extension": ".py",
   "mimetype": "text/x-python",
   "name": "python",
   "nbconvert_exporter": "python",
   "pygments_lexer": "ipython3",
   "version": "3.8.16"
  }
 },
 "nbformat": 4,
 "nbformat_minor": 5
}
