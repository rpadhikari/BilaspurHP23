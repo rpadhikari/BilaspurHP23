{
 "cells": [
  {
   "cell_type": "code",
   "execution_count": null,
   "id": "01f9f2cf-4819-49bb-8d32-b8ed2ec9e07d",
   "metadata": {
    "tags": []
   },
   "outputs": [],
   "source": [
    "# 1 Load needed libraries\n",
    "import pandas as pd\n",
    "from tensorflow.keras.models import Sequential\n",
    "from tensorflow.keras.layers import Dense\n",
    "from tensorflow.keras.wrappers.scikit_learn import KerasClassifier\n",
    "from tensorflow.keras.utils import to_categorical\n",
    "from sklearn.model_selection import cross_val_score\n",
    "from sklearn.model_selection import KFold\n",
    "from sklearn.preprocessing import LabelEncoder\n",
    "from sklearn.pipeline import Pipeline"
   ]
  },
  {
   "cell_type": "code",
   "execution_count": null,
   "id": "74c5340a-9fee-4f92-ae4d-0c10bd54dc07",
   "metadata": {
    "tags": []
   },
   "outputs": [],
   "source": [
    "# 2 Load dataset\n",
    "dataframe = pd.read_csv('./data/iris.csv', header=None)\n",
    "dataset = dataframe.values\n",
    "X = dataset[:,0:4].astype(float)\n",
    "Y = dataset[:,4]"
   ]
  },
  {
   "cell_type": "code",
   "execution_count": null,
   "id": "1f5649b9-0550-44ae-bdef-08aeecc0fb4a",
   "metadata": {
    "tags": []
   },
   "outputs": [],
   "source": [
    "# 3 Encode the Output Variable\n",
    "# encode class values as integers\n",
    "encoder = LabelEncoder()\n",
    "encoder.fit(Y)\n",
    "encoded_Y = encoder.transform(Y)"
   ]
  },
  {
   "cell_type": "code",
   "execution_count": null,
   "id": "f42fdb7b-85f1-44a2-a44f-9f7061e0c4a5",
   "metadata": {
    "tags": []
   },
   "outputs": [],
   "source": [
    "# convert integers to dummy variables (i.e. one hot encoded)\n",
    "dummy_y = to_categorical(encoded_Y)"
   ]
  },
  {
   "cell_type": "code",
   "execution_count": null,
   "id": "e3d80e86-33f1-48d0-91ea-0e3b2c92d574",
   "metadata": {
    "tags": []
   },
   "outputs": [],
   "source": [
    "# 4 Define the Neural Network Model\n",
    "# define baseline model\n",
    "def baseline_model():\n",
    "    # create model\n",
    "    model = Sequential()\n",
    "    model.add(Dense(32, input_dim=4, activation='relu'))\n",
    "    model.add(Dense(32, activation='relu'))\n",
    "    model.add(Dense(3, activation='softmax'))\n",
    "    # Compile model\n",
    "    model.compile(loss='categorical_crossentropy', optimizer='adam', metrics=['accuracy'])\n",
    "    return model"
   ]
  },
  {
   "cell_type": "code",
   "execution_count": null,
   "id": "deb39767-fd8c-44ed-9792-3dac800d5ccd",
   "metadata": {
    "tags": []
   },
   "outputs": [],
   "source": [
    "# Fit the model\n",
    "estimator = KerasClassifier(build_fn=baseline_model, epochs=100, batch_size=1024, verbose=1)"
   ]
  },
  {
   "cell_type": "code",
   "execution_count": null,
   "id": "eba96bca-9c7e-4d59-98db-9474b4c882a0",
   "metadata": {
    "tags": []
   },
   "outputs": [],
   "source": [
    "# 5 Evaluate the Model with k-Fold Cross Validation\n",
    "kfold = KFold(n_splits=10, shuffle=True)\n",
    "results = cross_val_score(estimator, X, dummy_y, cv=kfold)"
   ]
  },
  {
   "cell_type": "code",
   "execution_count": null,
   "id": "e49550f6-ce64-44ee-8798-2d944441a6e6",
   "metadata": {
    "tags": []
   },
   "outputs": [],
   "source": [
    "# 5 Evaluate the Model with k-Fold Cross Validation\n",
    "print(\"Baseline: %.2f%% (%.2f%%)\" % (results.mean()*100, results.std()*100))"
   ]
  },
  {
   "cell_type": "code",
   "execution_count": null,
   "id": "bb5293e3-99fa-4d4a-a095-2821562c80ef",
   "metadata": {},
   "outputs": [],
   "source": []
  }
 ],
 "metadata": {
  "kernelspec": {
   "display_name": "Python 3 (ipykernel)",
   "language": "python",
   "name": "python3"
  },
  "language_info": {
   "codemirror_mode": {
    "name": "ipython",
    "version": 3
   },
   "file_extension": ".py",
   "mimetype": "text/x-python",
   "name": "python",
   "nbconvert_exporter": "python",
   "pygments_lexer": "ipython3",
   "version": "3.8.16"
  }
 },
 "nbformat": 4,
 "nbformat_minor": 5
}
