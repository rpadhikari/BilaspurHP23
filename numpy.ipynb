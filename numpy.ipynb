{
 "cells": [
  {
   "cell_type": "code",
   "execution_count": 1,
   "id": "a758e87d",
   "metadata": {},
   "outputs": [],
   "source": [
    "# Calling NumPy library (with affection)\n",
    "import numpy as np"
   ]
  },
  {
   "cell_type": "code",
   "execution_count": 2,
   "id": "7e1d6845",
   "metadata": {
    "scrolled": true
   },
   "outputs": [],
   "source": [
    "myarray = np.array([1, 2, 3, 4, 5]) # creating an array with integer elements 1, 2, 3, 4, 5"
   ]
  },
  {
   "cell_type": "code",
   "execution_count": 3,
   "id": "6f391329-6de1-4ef2-a9db-c2df3cb53ece",
   "metadata": {},
   "outputs": [
    {
     "name": "stdout",
     "output_type": "stream",
     "text": [
      "[1 2 3 4 5]\n"
     ]
    }
   ],
   "source": [
    "# Printing the array as such to check\n",
    "print(myarray)                     "
   ]
  },
  {
   "cell_type": "code",
   "execution_count": 4,
   "id": "36d6c460-dc28-4e3a-8300-7553e1d8b1a7",
   "metadata": {},
   "outputs": [
    {
     "name": "stdout",
     "output_type": "stream",
     "text": [
      "<class 'numpy.ndarray'>\n"
     ]
    }
   ],
   "source": [
    "# Checking the type of elements on the array just creaed above\n",
    "print(type(myarray))"
   ]
  },
  {
   "cell_type": "code",
   "execution_count": 5,
   "id": "1558ff42-6a2d-4b5c-b7d5-474c8d55ef04",
   "metadata": {},
   "outputs": [
    {
     "name": "stdout",
     "output_type": "stream",
     "text": [
      "(5,)\n"
     ]
    }
   ],
   "source": [
    "# Checking the shape of the array, such as number of rows and cols\n",
    "print(myarray.shape)"
   ]
  },
  {
   "cell_type": "code",
   "execution_count": 6,
   "id": "78e9edff",
   "metadata": {},
   "outputs": [
    {
     "name": "stdout",
     "output_type": "stream",
     "text": [
      "24\n",
      "()\n"
     ]
    }
   ],
   "source": [
    "# Zero dimension array\n",
    "myarray = np.array(24)\n",
    "print(myarray)\n",
    "print(myarray.shape)"
   ]
  },
  {
   "cell_type": "code",
   "execution_count": 8,
   "id": "4384d64f",
   "metadata": {},
   "outputs": [
    {
     "name": "stdout",
     "output_type": "stream",
     "text": [
      "[[1 2 3]\n",
      " [4 5 6]\n",
      " [7 8 9]]\n",
      "(3, 3)\n"
     ]
    }
   ],
   "source": [
    "# Creating of 2D array\n",
    "myarray = np.array([[1,2,3],[4,5,6],[7,8,9]])\n",
    "print(myarray) # Printing the array itself\n",
    "print(myarray.shape) # Printing the size of row and col of the array"
   ]
  },
  {
   "cell_type": "code",
   "execution_count": 11,
   "id": "e1ed56a2",
   "metadata": {},
   "outputs": [
    {
     "name": "stdout",
     "output_type": "stream",
     "text": [
      "[0. 1. 2. 3. 4. 5. 6. 7. 8. 9.]\n"
     ]
    }
   ],
   "source": [
    "# Advance instruction to creating an array\n",
    "x = np.arange(0,10,1,dtype=float) # int, float, complex\n",
    "print(x) # Print the array"
   ]
  },
  {
   "cell_type": "code",
   "execution_count": 12,
   "id": "e0a4f792",
   "metadata": {},
   "outputs": [
    {
     "data": {
      "text/plain": [
       "array([ 0.,  2.,  4.,  6.,  8., 10.])"
      ]
     },
     "execution_count": 12,
     "metadata": {},
     "output_type": "execute_result"
    }
   ],
   "source": [
    "# Another advance instruction to creating an array using linspace\n",
    "np.linspace(0,10,6)"
   ]
  },
  {
   "cell_type": "code",
   "execution_count": 26,
   "id": "e07ced46-3481-4bdb-9681-96846c32e9e0",
   "metadata": {},
   "outputs": [
    {
     "name": "stdout",
     "output_type": "stream",
     "text": [
      "[0 0 0 0 0 0 0 0 0 0]\n",
      "[-3 -2 -1  0  1  2  3  4  5  6  7  8]\n"
     ]
    }
   ],
   "source": [
    "# Arange, np.arange([start, ]stop, [step, ]dtype=None, *, like=None)\n",
    "y1=np.arange(0, 5, 0.5, dtype=int)\n",
    "y2=np.arange(-3, 3, 0.5, dtype=int)\n",
    "print(y1)\n",
    "print(y2)"
   ]
  },
  {
   "cell_type": "code",
   "execution_count": 14,
   "id": "761e4f95",
   "metadata": {},
   "outputs": [
    {
     "name": "stdout",
     "output_type": "stream",
     "text": [
      "[[0 1 2 3 4]\n",
      " [5 6 7 8 9]]\n"
     ]
    }
   ],
   "source": [
    "# Changing Shape\n",
    "# Create 2x5 matrix first (2D array)\n",
    "x = np.arange(10, dtype=int).reshape(2,5) # 2x5 matrix (row, col)\n",
    "print(x)"
   ]
  },
  {
   "cell_type": "code",
   "execution_count": 15,
   "id": "824f3fc0",
   "metadata": {},
   "outputs": [
    {
     "data": {
      "text/plain": [
       "array([0, 1, 2, 3, 4, 5, 6, 7, 8, 9])"
      ]
     },
     "execution_count": 15,
     "metadata": {},
     "output_type": "execute_result"
    }
   ],
   "source": [
    "# Flatten the array different shape, not to complete 1D\n",
    "x.flatten()"
   ]
  },
  {
   "cell_type": "code",
   "execution_count": 17,
   "id": "ab8d6008",
   "metadata": {},
   "outputs": [
    {
     "name": "stdout",
     "output_type": "stream",
     "text": [
      "[[1 2 3]\n",
      " [4 5 6]\n",
      " [7 8 9]]\n"
     ]
    }
   ],
   "source": [
    "# Transpose\n",
    "# Create 3x3 matrix first (2-D array)\n",
    "x = np.arange(1,10,1).reshape(3,3)  # Reshape to 3x3 matrix\n",
    "print(x)"
   ]
  },
  {
   "cell_type": "code",
   "execution_count": 18,
   "id": "295f9e07",
   "metadata": {},
   "outputs": [
    {
     "data": {
      "text/plain": [
       "array([[1, 4, 7],\n",
       "       [2, 5, 8],\n",
       "       [3, 6, 9]])"
      ]
     },
     "execution_count": 18,
     "metadata": {},
     "output_type": "execute_result"
    }
   ],
   "source": [
    "np.transpose(x) # Actual transpose of the matrix"
   ]
  },
  {
   "cell_type": "code",
   "execution_count": 19,
   "id": "549103e0",
   "metadata": {},
   "outputs": [
    {
     "name": "stdout",
     "output_type": "stream",
     "text": [
      "[[1 2 3]\n",
      " [4 5 6]]\n",
      "(2, 3)\n"
     ]
    }
   ],
   "source": [
    "# Adding / Removing Elements (this is also part of resizing of array)\n",
    "x = np.array([[1,2,3],[4,5,6]])\n",
    "print(x)\n",
    "print(x.shape)"
   ]
  },
  {
   "cell_type": "code",
   "execution_count": 20,
   "id": "3aff8e13",
   "metadata": {},
   "outputs": [
    {
     "name": "stdout",
     "output_type": "stream",
     "text": [
      "[[1 2]\n",
      " [3 4]\n",
      " [5 6]]\n",
      "(3, 2)\n"
     ]
    }
   ],
   "source": [
    "# resize to new row and col\n",
    "y = np.resize(x, (3,2))\n",
    "print(y)\n",
    "print(y.shape)"
   ]
  },
  {
   "cell_type": "code",
   "execution_count": 22,
   "id": "2a0d714b",
   "metadata": {},
   "outputs": [
    {
     "name": "stdout",
     "output_type": "stream",
     "text": [
      "[[1 2 3]\n",
      " [4 5 6]\n",
      " [7 8 9]]\n",
      "[[ 1  2  3  7  8  9]\n",
      " [ 4  5  6 10 11 12]]\n"
     ]
    }
   ],
   "source": [
    "# Example of Append\n",
    "x = np.array([[1,2,3],[4,5,6]])\n",
    "# append three elements on axis=0\n",
    "print(np.append(x, [[7,8,9]],axis=0))\n",
    "# append three elements on axis=1\n",
    "print(np.append(x,[[7,8,9],[10,11,12]],axis=1))"
   ]
  },
  {
   "cell_type": "code",
   "execution_count": null,
   "id": "bd28fc79",
   "metadata": {},
   "outputs": [],
   "source": []
  }
 ],
 "metadata": {
  "kernelspec": {
   "display_name": "Python 3 (ipykernel)",
   "language": "python",
   "name": "python3"
  },
  "language_info": {
   "codemirror_mode": {
    "name": "ipython",
    "version": 3
   },
   "file_extension": ".py",
   "mimetype": "text/x-python",
   "name": "python",
   "nbconvert_exporter": "python",
   "pygments_lexer": "ipython3",
   "version": "3.8.16"
  }
 },
 "nbformat": 4,
 "nbformat_minor": 5
}
